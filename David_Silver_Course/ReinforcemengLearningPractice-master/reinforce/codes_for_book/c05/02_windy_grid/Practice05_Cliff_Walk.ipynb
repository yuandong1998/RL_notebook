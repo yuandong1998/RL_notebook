{
 "cells": [
  {
   "cell_type": "code",
   "execution_count": 1,
   "metadata": {},
   "outputs": [],
   "source": [
    "from random import random, choice\n",
    "from agents import SarsaAgent, QAgent\n",
    "from gridworld import CliffWalk,CliffWalk2\n",
    "from gym import Env\n",
    "import gym\n",
    "\n",
    "from utils import greedy_policy, learning_curve, str_key"
   ]
  },
  {
   "cell_type": "code",
   "execution_count": 2,
   "metadata": {},
   "outputs": [
    {
     "data": {
      "text/plain": [
       "True"
      ]
     },
     "execution_count": 2,
     "metadata": {},
     "output_type": "execute_result"
    }
   ],
   "source": [
    "env = CliffWalk()\n",
    "env.reset()\n",
    "env.render()"
   ]
  },
  {
   "cell_type": "code",
   "execution_count": 3,
   "metadata": {},
   "outputs": [
    {
     "name": "stderr",
     "output_type": "stream",
     "text": [
      "100%|██████████| 10000/10000 [00:04<00:00, 2354.73it/s]\n",
      "100%|██████████| 10000/10000 [00:04<00:00, 2464.19it/s]\n"
     ]
    }
   ],
   "source": [
    "\n",
    "\n",
    "q_agent = QAgent(env, capacity = 10000)\n",
    "sarsa_agent = SarsaAgent(env, capacity = 10000)\n",
    "\n",
    "sarsa_sta = sarsa_agent.learning(display = False,\n",
    "                                 max_episode_num = 10000, \n",
    "                                 epsilon = 0.1, \n",
    "                                 decaying_epsilon = False)\n",
    "q_sta = q_agent.learning(display = False,\n",
    "                         max_episode_num = 10000,\n",
    "                         epsilon = 0.1, \n",
    "                         decaying_epsilon = False)"
   ]
  },
  {
   "cell_type": "code",
   "execution_count": 4,
   "metadata": {},
   "outputs": [
    {
     "data": {
      "image/png": "[encoded data removed]",
      "text/plain": [
       "<Figure size 432x288 with 1 Axes>"
      ]
     },
     "metadata": {},
     "output_type": "display_data"
    }
   ],
   "source": [
    "n = 4 # 去掉早期n个奖励过低的Episode\n",
    "data = sarsa_sta[2][n:], sarsa_sta[1][n:], q_sta[1][n:] \n",
    "learning_curve(data, x_index = 0, y1_index = 1, y2_index = 2,\n",
    "               title=\"compare of Q and Sarsa\", x_name = \"Episodes (n)\", y_name = \"Reward per Episode\",\n",
    "               y1_legend = \"sarsa\", y2_legend = \"q learning\")"
   ]
  },
  {
   "cell_type": "code",
   "execution_count": 5,
   "metadata": {},
   "outputs": [
    {
     "name": "stdout",
     "output_type": "stream",
     "text": [
      "episode 10000   17 steps,total reward:-16.00  \n",
      "episode 10000   13 steps,total reward:-12.00  \n"
     ]
    },
    {
     "data": {
      "text/plain": [
       "(13, -12)"
      ]
     },
     "execution_count": 5,
     "metadata": {},
     "output_type": "execute_result"
    }
   ],
   "source": [
    "sarsa_agent.learning_method(display=True)\n",
    "q_agent.learning_method(display=True)"
   ]
  },
  {
   "cell_type": "code",
   "execution_count": 6,
   "metadata": {},
   "outputs": [
    {
     "name": "stdout",
     "output_type": "stream",
     "text": [
      "detail of (episode 10000   17 steps,total reward:-16.00  ):\n",
      "step0     s:0   a:2   r:-1   is_end:0     s1:12 \n",
      "step1     s:12  a:2   r:-1   is_end:0     s1:24 \n",
      "step2     s:24  a:2   r:-1   is_end:0     s1:36 \n",
      "step3     s:36  a:1   r:-1   is_end:0     s1:37 \n",
      "step4     s:37  a:1   r:-1   is_end:0     s1:38 \n",
      "step5     s:38  a:1   r:-1   is_end:0     s1:39 \n",
      "step6     s:39  a:1   r:-1   is_end:0     s1:40 \n",
      "step7     s:40  a:1   r:-1   is_end:0     s1:41 \n",
      "step8     s:41  a:1   r:-1   is_end:0     s1:42 \n",
      "step9     s:42  a:1   r:-1   is_end:0     s1:43 \n",
      "step10    s:43  a:1   r:-1   is_end:0     s1:44 \n",
      "step11    s:44  a:1   r:-1   is_end:0     s1:45 \n",
      "step12    s:45  a:1   r:-1   is_end:0     s1:46 \n",
      "step13    s:46  a:1   r:-1   is_end:0     s1:47 \n",
      "step14    s:47  a:3   r:-1   is_end:0     s1:35 \n",
      "step15    s:35  a:3   r:-1   is_end:0     s1:23 \n",
      "step16    s:23  a:3   r:0    is_end:1     s1:11 \n",
      "detail of (episode 10000   13 steps,total reward:-12.00  ):\n",
      "step0     s:0   a:2   r:-1   is_end:0     s1:12 \n",
      "step1     s:12  a:1   r:-1   is_end:0     s1:13 \n",
      "step2     s:13  a:1   r:-1   is_end:0     s1:14 \n",
      "step3     s:14  a:1   r:-1   is_end:0     s1:15 \n",
      "step4     s:15  a:1   r:-1   is_end:0     s1:16 \n",
      "step5     s:16  a:1   r:-1   is_end:0     s1:17 \n",
      "step6     s:17  a:1   r:-1   is_end:0     s1:18 \n",
      "step7     s:18  a:1   r:-1   is_end:0     s1:19 \n",
      "step8     s:19  a:1   r:-1   is_end:0     s1:20 \n",
      "step9     s:20  a:1   r:-1   is_end:0     s1:21 \n",
      "step10    s:21  a:1   r:-1   is_end:0     s1:22 \n",
      "step11    s:22  a:1   r:-1   is_end:0     s1:23 \n",
      "step12    s:23  a:3   r:0    is_end:1     s1:11 \n"
     ]
    }
   ],
   "source": [
    "env.close()\n",
    "sarsa_agent.last_episode_detail()\n",
    "q_agent.last_episode_detail()"
   ]
  },
  {
   "cell_type": "code",
   "execution_count": null,
   "metadata": {},
   "outputs": [],
   "source": [
    "import matplotlib.pyplot as plt\n",
    "import numpy as np\n",
    "def xy2state(x, y):\n",
    "    return str(y*12+x)\n",
    "\n",
    "def str_key(s, a):\n",
    "    '''根据横坐标，纵坐标和行为生成键\n",
    "    '''\n",
    "    return str(s)+\"_\"+str(a)\n",
    "    \n",
    "def print_q(agent):\n",
    "    '''打印输出agent的价值\n",
    "    '''\n",
    "    for y in range(4):\n",
    "        for x in range(12):\n",
    "            for a in range(4):\n",
    "                key = str_key(xy2state(x,y),a)\n",
    "                print(\"{}_{}_{}:{}\".format(x,y,a,agent.Q.get(key,0)))\n",
    "                \n",
    "def show_q(agent):\n",
    "    '''绘制agent学习得到的Q值，以图片的形式，每一个位置用3*3的小方格表示，\n",
    "    中间小方格表示该状态的价值，左右上下四个小方格分别表示相应行为的价值，\n",
    "    四个角上的数据暂时没有意义。\n",
    "    '''\n",
    "    V = np.zeros((4*3,12*3))\n",
    "    for y in range(4):\n",
    "        for x in range(12):\n",
    "            max_qsa = -float('inf')\n",
    "            for a in range(4): # 0-3 分别为 左 右 上 下\n",
    "                key = str_key(xy2state(x,y),a)\n",
    "                qsa = agent.Q.get(key,0)\n",
    "                if a == 0: V[3*y+1, 3*x+1-1] = qsa\n",
    "                if a == 1: V[3*y+1, 3*x+1+1] = qsa\n",
    "                if a == 2: V[3*y+1+1, 3*x+1] = qsa\n",
    "                if a == 3: V[3*y+1-1, 3*x+1] = qsa\n",
    "                if qsa > max_qsa: max_qsa = qsa\n",
    "            V[3*y+1, 3*x+1] = max_qsa\n",
    "    plt.imshow(V, cmap=plt.cm.gray, interpolation=None, origin=\"lower\", extent=[0, 12, 0, 3])"
   ]
  },
  {
   "cell_type": "code",
   "execution_count": null,
   "metadata": {
    "scrolled": false
   },
   "outputs": [],
   "source": [
    "show_q(sarsa_agent)\n",
    "def value_of(agent, s):\n",
    "    '''以最大行为价值作为某一状态的价值\n",
    "    '''\n",
    "    A, Q = agent.A, agent.Q\n",
    "    max_q = -float('inf')\n",
    "    for a in A:\n",
    "        cur_q = Q.get(str_key(s,a),0)\n",
    "        if cur_q > max_q:\n",
    "            max_q = cur_q\n",
    "    return max_q\n",
    "# 比较坐标(0,0)和(0,3)两处位置的价值大小，判断sarsa学习得到的两处是左上方的价值较大\n",
    "def print_v(agent, x, y):\n",
    "    print(\"{}:value of ({},{}):{}\".format(agent.__class__.__name__,x,y,value_of(agent,xy2state(x,y))))\n",
    "\n",
    "print_v(sarsa_agent, 1,1) # 在(0,1)处右转价值\n",
    "print_v(sarsa_agent, 0,2) # 在(0,1)处向上价值"
   ]
  },
  {
   "cell_type": "markdown",
   "metadata": {},
   "source": [
    "sarsa 学习在 $ \\epsilon $ - greedy 策略下 $\\epsilon$ 不衰减 时学习到的路线是从上方远离悬崖的地方行走\n",
    "\n",
    "$$J = -\\sum_{3}^{2}{ad} + \\frac{2}{0} $$"
   ]
  },
  {
   "cell_type": "code",
   "execution_count": null,
   "metadata": {},
   "outputs": [],
   "source": [
    "show_q(q_agent)\n",
    "print_v(q_agent, 1,1) # 在(0,1)处右转价值\n",
    "print_v(q_agent, 0,2) # 在(0,1)处向上价值"
   ]
  },
  {
   "cell_type": "code",
   "execution_count": null,
   "metadata": {},
   "outputs": [],
   "source": []
  }
 ],
 "metadata": {
  "kernelspec": {
   "display_name": "Python 3",
   "language": "python",
   "name": "python3"
  },
  "language_info": {
   "codemirror_mode": {
    "name": "ipython",
    "version": 3
   },
   "file_extension": ".py",
   "mimetype": "text/x-python",
   "name": "python",
   "nbconvert_exporter": "python",
   "pygments_lexer": "ipython3",
   "version": "3.5.2"
  }
 },
 "nbformat": 4,
 "nbformat_minor": 2
}
